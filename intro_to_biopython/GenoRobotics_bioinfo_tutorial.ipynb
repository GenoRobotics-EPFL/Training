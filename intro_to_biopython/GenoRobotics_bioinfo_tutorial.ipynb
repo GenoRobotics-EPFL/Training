{
 "cells": [
  {
   "cell_type": "markdown",
   "id": "d9a40d5d9741d88b",
   "metadata": {
    "collapsed": false
   },
   "source": [
    "# GenoRobotics Bioinformatics Tutorial\n",
    "**Date: 18 October 2023**\n",
    "**Author: Jeremy Goumaz**\n",
    "\n",
    "The aim of this tutorial is to teach you some basics about Python/Anaconda/Bioinformatics."
   ]
  },
  {
   "cell_type": "markdown",
   "id": "491eb40772f5a0bb",
   "metadata": {
    "collapsed": false
   },
   "source": [
    "## 1. Anaconda\n",
    "\n",
    "Anaconda is a software for **package management** and deployment of python environments. It includes **Conda**, a package management system and environment management system. Conda is mainly a terminal tool and can be used with commands starting by `conda`. A conda environment can be defined by a file (with the extension .yml) containing the list of packages and versions needed.\n",
    "An example of environment is given with the file `GenoRobotics_bioinfo_consensus.yml`. The goal of this task will be to create this environment to use it in this jupyter notebook.\n",
    "\n",
    "How to install Anaconda:\n",
    "- Download and install Anaconda: [https://www.anaconda.com/download](https://www.anaconda.com/download) (**during the installation, select \"add to PATH\" if the option is shown**)\n",
    "- Then you can check if conda in installed by running the following command in your terminal: `conda --version`\n",
    "- If the command does not work (the conda version is not shown), then you need to add conda to the PATH of your machine. You can check on internet how to do it (different ways for Windows/macOS/Linux) and if you have problem with it, you can ask me on Slack)\n",
    "- When the `conda --version` command works, it means that conda is installed. Now you need to run `conda init` to intialize conda\n",
    "- Conda installation is now finished, well done !\n",
    "\n",
    "How to set up the conda environment:\n",
    "- Open your terminal and go into this folder (GenoRobotics Bioinfo Tutorial 2023). You need to run the commands in the folder where the environment file is (`GenoRobotics_bioinfo_consensus.yml` in this case)\n",
    "- Run `conda env create -f GenoRobotics_bioinfo_consensus.yml` to create the environment. The environment name is `GenoRobotics_bioinfo_consensus`\n",
    "- When the environment is created, you can try to run `conda activate GenoRobotics_bioinfo_consensus` in your terminal to activate the environment and then `conda deactivate` to deactivate the environment\n",
    "- Now you need to set this conda environment as your **interpreter** in your IDE (Integrated Development Environment), the software you are using to write Python code (PyCharm, Visual Code...). You need to set the conda environment `GenoRobotics_bioinfo_consensus` as the interpreter. You can check on internet how to do it\n",
    "  - For PyCharm, I recommend to create a `New Project` (named GenoRobotics for example) and then you can set the interpreter for this specific project in `Settings` > `Project: ...` > `Python Interpreter` > `Add Interpreter` > `Add Local interpreter` > `Conda environment` > `Use existing environment` > select `GenoRobotics_bioinfo_consensus` > press OK on each window\n",
    "- When you are done, you can try to run the following cells of code. If it works, everything is fine"
   ]
  },
  {
   "cell_type": "code",
   "execution_count": 1,
   "id": "initial_id",
   "metadata": {
    "collapsed": true
   },
   "outputs": [
    {
     "name": "stdout",
     "output_type": "stream",
     "text": [
      "Hello World!\n"
     ]
    }
   ],
   "source": [
    "print(\"Hello World!\")"
   ]
  },
  {
   "cell_type": "code",
   "execution_count": 2,
   "id": "218265682d80226b",
   "metadata": {
    "collapsed": false
   },
   "outputs": [
    {
     "name": "stdout",
     "output_type": "stream",
     "text": [
      "biopython has been correctly imported!\n"
     ]
    }
   ],
   "source": [
    "from Bio import SeqIO, SeqRecord, Align  # import from biopython package\n",
    "print(\"biopython has been correctly imported!\")"
   ]
  },
  {
   "cell_type": "markdown",
   "id": "f9d731d3e5eea17b",
   "metadata": {
    "collapsed": false
   },
   "source": [
    "# 2. Python basics\n",
    "\n",
    "Here are some (random) useful tricks you can use in standard python:"
   ]
  },
  {
   "cell_type": "code",
   "execution_count": 3,
   "id": "43da199b3b7564f8",
   "metadata": {
    "collapsed": false
   },
   "outputs": [
    {
     "name": "stdout",
     "output_type": "stream",
     "text": [
      "This way of printing a = 1 and b = 2 is not very practical...\n",
      "You can use f-strings (write f before your string) to make it easier and more readable: a=1, b=2\n"
     ]
    }
   ],
   "source": [
    "# f-strings (readable string containing variables)\n",
    "\n",
    "a = 1\n",
    "b = 2\n",
    "print(\"This way of printing a =\", a, \"and b =\", b, \"is not very practical...\")\n",
    "print(f\"You can use f-strings (write f before your string) to make it easier and more readable: a={a}, b={b}\")"
   ]
  },
  {
   "cell_type": "code",
   "execution_count": 4,
   "id": "5c2103618e02d2f8",
   "metadata": {
    "collapsed": false
   },
   "outputs": [
    {
     "name": "stdout",
     "output_type": "stream",
     "text": [
      "[1, 3, 5, 7, 9]\n"
     ]
    }
   ],
   "source": [
    "# list comprehension (easy way to define lists without having to write loops)\n",
    "\n",
    "odd_numbers = [i for i in range(10) if i%2 != 0]\n",
    "print(odd_numbers)"
   ]
  },
  {
   "cell_type": "code",
   "execution_count": 5,
   "id": "6288e273a69e107",
   "metadata": {
    "collapsed": false
   },
   "outputs": [
    {
     "name": "stdout",
     "output_type": "stream",
     "text": [
      "Random integer in [0,1,2,3]: 1\n",
      "Random DNA base in [A,T,G,C]: C\n",
      "Random DNA base in [A,T,G,C]: T\n",
      "Random sequence 1: GGTGTAGTGA\n",
      "Random sequence 2: GTATGGGATG\n",
      "Random sequence 3: CACACGTGGC\n",
      "Random sequence 4: TCAACCTAAA\n",
      "Random sequence 1 with seed=0: CCAGCCGCGT\n",
      "Random sequence 2 with seed=0: CCAGCCGCGT\n",
      "Random sequence 3 with seed=0: CCAGCCGCGT\n",
      "Random sequence 4 with seed=0: CCAGCCGCGT\n"
     ]
    }
   ],
   "source": [
    "# random\n",
    "import random\n",
    "\n",
    "# random integer\n",
    "random_int = random.randint(0,3)\n",
    "print(f\"Random integer in [0,1,2,3]: {random_int}\")\n",
    "\n",
    "# random dna base\n",
    "dna_bases = \"ATGC\"\n",
    "random_int = random.randint(0,3)\n",
    "random_dna_base = dna_bases[random_int]\n",
    "print(f\"Random DNA base in [A,T,G,C]: {random_dna_base}\")\n",
    "\n",
    "# random dna base - more compact way to write it\n",
    "print(f\"Random DNA base in [A,T,G,C]: {'ATGC'[random.randint(0,3)]}\")\n",
    "\n",
    "# function to generate a random DNA sequence\n",
    "def create_random_dna_sequence(length=10):\n",
    "    return \"\".join([\"ATGC\"[random.randint(0,3)] for i in range(length)])\n",
    "\n",
    "# print multiple random sequences\n",
    "for seq_id in range(1,5):\n",
    "    sequence = create_random_dna_sequence()\n",
    "    print(f\"Random sequence {seq_id}: {sequence}\")\n",
    "\n",
    "# you can also set a \"random seed\" to get deterministic output (always the same randomness)\n",
    "for seq_id in range(1,5):\n",
    "    random.seed(0)\n",
    "    sequence = create_random_dna_sequence()\n",
    "    print(f\"Random sequence {seq_id} with seed=0: {sequence}\")\n",
    "# but usually you define random.seed(0) only one time in the beginning of your script, it is useful for reproducibility"
   ]
  },
  {
   "cell_type": "markdown",
   "id": "7488f6246cf371b5",
   "metadata": {
    "collapsed": false
   },
   "source": [
    "# 3. biopython basics\n",
    "\n",
    "biopython is a Python package (installed in the current environment `GenoRobotics_bioinfo_consensus`)\n",
    "We use it to load the sequencing data and to process them (with alignment algorithm for example)."
   ]
  },
  {
   "cell_type": "markdown",
   "id": "4bf262a66f249f13",
   "metadata": {
    "collapsed": false
   },
   "source": [
    "### 3.1 Load data"
   ]
  },
  {
   "cell_type": "code",
   "execution_count": 2,
   "id": "dede51ec0401a76f",
   "metadata": {
    "collapsed": false
   },
   "outputs": [],
   "source": [
    "from Bio import SeqIO\n",
    "import gzip  # package used to unzip .gzip files\n",
    "\n",
    "# a function to read a .fastq file\n",
    "def read_fastq(fastq_filepath=None):\n",
    "    if fastq_filepath.lower().endswith('.gz'):\n",
    "        f = gzip.open(fastq_filepath, 'r')\n",
    "    else:\n",
    "        f = open(fastq_filepath, 'r')\n",
    "    sequences = []\n",
    "    for read in SeqIO.parse(f, \"fastq\"):\n",
    "        sequences.append(read)\n",
    "    f.close()\n",
    "    return sequences"
   ]
  },
  {
   "cell_type": "code",
   "execution_count": 3,
   "id": "540501fcf9cb97be",
   "metadata": {
    "collapsed": false
   },
   "outputs": [
    {
     "name": "stdout",
     "output_type": "stream",
     "text": [
      "Type: <class 'Bio.SeqRecord.SeqRecord'>\n",
      "Number of sequences: 5000\n"
     ]
    }
   ],
   "source": [
    "# load the .fastq file provided\n",
    "fastq_sequences = read_fastq(fastq_filepath=\"rbcL_Qiagen_tomato_5000.fastq\")\n",
    "\n",
    "# fastq_sequences is a list containing all the sequences as SeqRecord objects (biopython class)\n",
    "print(f\"Type: {type(fastq_sequences[0])}\")\n",
    "print(f\"Number of sequences: {len(fastq_sequences)}\")"
   ]
  },
  {
   "cell_type": "code",
   "execution_count": 10,
   "id": "e98feaa0a285a3eb",
   "metadata": {
    "collapsed": false
   },
   "outputs": [
    {
     "name": "stdout",
     "output_type": "stream",
     "text": [
      "Type: <class 'Bio.Seq.Seq'>\n",
      "Sequence (Seq object): GTATGCTTCGTTCATTCAAATTTGGGTGTTTAGCAATTTTCGCATTTATCGTGAAACGCTTTCGCGTTTTTGGATCGGCAGGTGTTTAACCGTTTTCGCATTTATCGTGGCTTAACACCAGCGTTTTTCATTGTAACTTAAAATTATATAAGAGAAGAAGAATCTTTGATTTTTTTTTTTGAAAAAGGTAACCGAGCTTCTTTAGTAATAAGACTATTCAAATTACAATATTCGTGGAAAATCGTAATAAATATTGAAGGCATCTTTTAATAGCGAAGTTTGAACAAAATTTCCAA\n"
     ]
    }
   ],
   "source": [
    "# in this example, we don't care about the quality scores or metadata (information) about the sequences\n",
    "# we can get the DNA sequence using the .seq attribute of SeqRecord like this:\n",
    "sequence = fastq_sequences[0].seq  # Seq object (biopython class)\n",
    "print(f\"Type: {type(sequence)}\")\n",
    "print(f\"Sequence (Seq object): {sequence}\")"
   ]
  },
  {
   "cell_type": "code",
   "execution_count": 7,
   "id": "ee7700d3686a3bdb",
   "metadata": {
    "collapsed": false
   },
   "outputs": [
    {
     "name": "stdout",
     "output_type": "stream",
     "text": [
      "Type: <class 'str'>\n",
      "Number of sequences: 5000\n"
     ]
    }
   ],
   "source": [
    "# it is sometimes useful to convert all the loaded sequences in strings (not Seq objects) to perform some analysis, you can do it like this:\n",
    "dna_sequences = [str(sequence.seq) for sequence in fastq_sequences]\n",
    "print(f\"Type: {type(dna_sequences[0])}\")\n",
    "print(f\"Number of sequences: {len(dna_sequences)}\")"
   ]
  },
  {
   "cell_type": "code",
   "execution_count": 8,
   "id": "537db1e8953da403",
   "metadata": {
    "collapsed": false
   },
   "outputs": [
    {
     "name": "stdout",
     "output_type": "stream",
     "text": [
      "Sequence 1: GTATGCTTCGTTCATTCAAATTTGGGTGTTTAGCAATTTTCGCATTTATCGTGAAACGCTTTCGCGTTTTTGGATCGGCAGGTGTTTAACCGTTTTCGCATTTATCGTGGCTTAACACCAGCGTTTTTCATTGTAACTTAAAATTATATAAGAGAAGAAGAATCTTTGATTTTTTTTTTTGAAAAAGGTAACCGAGCTTCTTTAGTAATAAGACTATTCAAATTACAATATTCGTGGAAAATCGTAATAAATATTGAAGGCATCTTTTAATAGCGAAGTTTGAACAAAATTTCCAA\n",
      "\n",
      "Sequence 2: GTTGTACTTCGTTCCAGTTATCAGATGTTGGGTGTTTAGCCGTTTTCGCATTTATCATTGAAACAACCGCGTTTTCGTGCGCCGCTTCACCTACAATGGAAGTAAACATATTGGTAACAGAACCTTTATGTAAAGGTCTAAAGGAGTGGCTACATAAGCAATATATTGATCTTTTCTCCAACAACGCGCTCGATGCGGTAGCATCGCACCTTTGTAACGATCAAGACTGGTAGAGTCCATCGGTCCATACAATTGTCCATGTACCAGTAGAAGATTCGGCTGCGGCCCCTGCTACTGGGTGGAACTCCAGGTTGAGGTTACTCGGAATGCTAATATATCAGTATCCTTGGTTTGGTACTCAGGAGTATAATAAGTCAATTTGTACTCTTTAACACCAGCTTTGAATCAACACTTTAGTCTCTG\n",
      "\n",
      "Sequence 3: GTTGCTTCGTTCAGTTATCGGAATTGATTGTTTTAACCGTTTCGCATTTATCGTGAAACCTTTTCGCGTTTTCGTGCGCCGCTTCAGCCGCTTTGATTTCCACCTGTTTAGTCATTTTTAAAAAGATCGCTTCGGCACAAAAATAAGAAACGATCTCTCCAACACATAAATGGTTGTGATTTCACGTTCTCATCATCTTTGAGTAAAAATCAAGTCCACCGCGAAGACATTCGCAACAGCTCTACCGTAGTTTTTTGCAGATAGCAATTTAGGTTTAATAGTACATCCCAACAGGGACGAACCTGCCATTTCAATTTATCTCTTTCAACTTGGATCCGCGCAGAGGCGGACCTTGGAAAGTTTTAACATAAGCGGGAGGGATTCGCAGATCTTCCAGACGTAGAGCGCGCAGGGCTGAACCCAAATACGTTACCTACAATGGAAGTAAACATATTCGGTAACGTTCTTCAAAAGGTCTAAAGGGTAAGCTACAAGCAATATATTGATACTTTTTCTCCAACAACGCTCGATGCGGTAGCATCGCCCTTTATGCGATCAAGACTGGTAGTCCATCGGTCCAGCCACTGATTTGTCAATAGCACCAGTAGAAGATTCGGCAGCTACCGCGGCCCCTGCTTCTTCAGGTGGAACTCCAGGTTGAGGAGTTATCGGAATGCTTTGCTAATACCATCAGTAATATGGTTTGGTACTCCGGAGTATAGCAGTCAAATTTGTGCTCTTTAACACCAACTTTGAATCAACACTTGCTGGTCTC\n",
      "\n",
      "Sequence 4: CAGTGTCTTCGTTCAATCGGTGGTGTTTAACCGTTTCGCATTTATCGTGAAACACTTTCGCGTTTTTCGTGCGCCGCTTCAAACGTCCCTTTTGAAGCCAGAATTGATTTTCCTTCATACCTAACACATAATGCATGAAAGGATCCTTGAATAACCATAGGGTAACCTGAAAATCCTTAGCAAAGGCTTCTACAAGACGTTCTATTTTTCCATAGAAATATATTCGTTCCAGAAGGGCTCCAAAGATGTTGATCGTAAATGAGAAGATTGGTTCCGTAGAAAGACGAAAGTGGATTCGCATAA\n",
      "\n",
      "Sequence 5: GTTGTACTTCGTTCGGTGCCTCGGAAGAATTTGGGTGTTCTTGTTTCGCATTTATCGTGAAACGCTTTCCGCGTTTTCGTGCGCCGCTTCATCAGCAGCTACGCGGCCCTGCTTCTTCAGGTGGAACTCCGGGTTGAGTTACTCGGAATACTGCTATTATATCAGTATCCTTGGTTTTGGTACTCAGGAGTATAATAAGTCAATTTGTACTCTTTAACACCAGCTTTGAATCAACACTTGCTTTAGTCTCTG\n",
      "\n",
      "Sequence 6: GCGCCGCTGGTTCAGTTGGCACCTCGGAATTTGATTGAACAACCGTTTTCATTTATCGTGAAACGCTTTCGCATTTTTTCGTGCGCCGCTTCATTGTAGGTAACGTATTTTGGGTTCAAAGCCCTGCGCGCTCTCTACGTCTGGAAGATCTGCGAATCCCTCCTGCGCTGTATTCAAACTTTCAAAGGTCCGCCTCATGGGATCAAGTTGAAAGAGATAAATTGAACAAAGTATGGTCACGTCCCCTGTTGAGATGCTATTAAACTGATTGGGGTTATCTACCAAAAAACTACGGTAGAGCTGTTTATGAATGTCTTCGCGGTGGACTTGATTTTACCAAAGATGATGAGAACGTGAACTCACAACCATTTATGCGTTGGGAGAGATCGTTTCTTGTTACGTGCCGAAAGCACTTTTTAAAGCACAGACTAAGTAGGTGAAATCAAGGCATTACTTGGTGCTAC\n",
      "\n",
      "Sequence 7: GTTTCGTTCAGTTACATCAGATTTGGGTGTTTAACCGTTTTCCGCATTTATCGTGAAACGCTTCGCGTTTTTCGTGCGCCAGCAGCATGTACCTGCAGTAGCATTCCAAGTAATGCCCTTTGATTTCCACCTGTTTCGGTCTGGCTGCTTTAAAGTGCTTCGGCACAAAAATAAGAAAACGATCTACCAACGCATAAATGGTTGTGAGTTCACGTTCTCATCATCTTTGGTAAAATCAAGTCCACCGCGAAGACATTCATAAAAACAGCTCTACCGTAGTTTTTGCAGATAACCCCAATTTAGGTTTAATAGTACATCCCAACAGGGGACGACCATACTTGTTCAATTTATCTCTTTCAACTTGGATCCCATGAGGCGGACCTTGGAAAGTTTTAACATAAGCAGGAGGATTCGCAGATCTTCCAGACGTAAATGCCGCAGGGCTTTGAACCTTAAATGCAT\n",
      "\n",
      "Sequence 8: GTTGTACTTCGTTCAGTTTTTTTTTTTTTTCAGGTAGGTGTTTAACCGTTTTTCCGCATTTATCGTGAAACGCTTTCGCGTTGTGCGCCGCTTCAGCAGATAACCCCAATTTAGGTTTAATAGTACGTAACAGGGGACGACATACTTGTTCAATTTATCTCTTTCCAACTTGGATCCCATGAGGCGGACCTTTGGAAAGTTTTAACATAAGCAGGAGGGGATTCGCAGATCTTCCAGACGTAGAGCGCGCAGGGCTTTGGGCAAAATACGTTACCTACAATGGAAGTAAACATATTGGTAACGGAACCTTCTTCAAAAAGGTCTAAGGGTAAGCTACATAAGCAATGTAATGATCTTTTTCTCCAACAACGCGCTC\n",
      "\n",
      "Sequence 9: CGGTATTACTTCGTTCCAGTTTCATTTAGGTGTTTAACCGTTTCCCGCATTTATCGTGAAACGCTTTCGCGTTTTTCGTGCGCCGCTAAATGGCAATATATTGATCTTTTTCTCCAACAACAACGCTCGATGCGGTAGCATCGCCGCTGTAACGATCAAGACTGAGTAAGTCCATCCGGTCCATACCGGTTGTCCATGTGCCAGTAGAGAAGATTCGGCGGCTACCGCGGCCCCTGCTTCTTCGGGTGGAACTCCAGGTTGAGGAGTTACTCGGAATACTGCTAATATATCAGTATCCTTGGTTTGGTACTCAGAATATAATAAGTCAATTTGTATACTTCTAGCACCAGCTTTGGATCAACACTTGCTTTAGTCTCTGT\n",
      "\n",
      "Sequence 10: CAGTGTGCTTCGTTCAGTTTCGAATTTCAGGTGTTTTAACCGTTTTCGCATTTATCGTGAGAGGGTTTCGCGTTTTTCGTTGCTGCCCTTGTATCAACACTGAGTTAGGATTCTTTGATTCTTTGGTGAAATGTAGAGGATGTTGAGATATGTACAAGTGGGATCGAATCCGTTGAATGATGTTCTGCCAAGTAGTAATCTTTCATCTGTTGAATACTTTCATATTGGAGATGCACAAATCAATGATTCATTCCGCTAGTACAAAACAGCATGACGGTCTTCTAGCAGCTAGTTTTCAAGATAACAGTTTGACAGGAAACATTCCTCGTGAGATCGGTAAGCAAGCAACTCCAGGTTTATTTCTAGTTAACAATGGACTACAGGGGGACATAGCAGAGGTAGTATGTGATTTATCGAATTTGGTTCGATTAGCTCTGTCTGAAAATGAGCTCTCGGGGTGATTCCGGAATGTTTAAAATCTTACCATGCTACAACAACTTTTTTAGGTTCTAACAAAGTTTGAATCAAAGCTACCTT\n",
      "\n"
     ]
    }
   ],
   "source": [
    "for i in range(10):\n",
    "    print(f\"Sequence {i+1}: {dna_sequences[i]}\\n\")"
   ]
  },
  {
   "cell_type": "markdown",
   "id": "48850ac9af1cb310",
   "metadata": {
    "collapsed": false
   },
   "source": [
    "### 3.2 DNA alignment"
   ]
  },
  {
   "cell_type": "code",
   "execution_count": 9,
   "id": "d1ca2885ee6f5c8f",
   "metadata": {
    "collapsed": false
   },
   "outputs": [],
   "source": [
    "from Bio import Align\n",
    "\n",
    "# define an \"aligner\" to run DNA alignment algorithm\n",
    "aligner = Align.PairwiseAligner()\n",
    "aligner.mode = 'global' # cf. Needleman-Wunsch algorithm\n",
    "aligner.match_score = 1\n",
    "aligner.mismatch_score = -1\n",
    "aligner.gap_score = -2\n",
    "\n",
    "# specific scores that I use for primer alignment (consensus team only)\n",
    "aligner.query_end_gap_score = 0 # must be 0 (to allow gap around the primer for global alignment) [query ~ sequence here]\n",
    "aligner.target_end_gap_score = -100 # set to -100 if the primer should be fully integrated in the sequence [target ~ primer here]"
   ]
  },
  {
   "cell_type": "code",
   "execution_count": 10,
   "id": "59e0027ef7536701",
   "metadata": {
    "collapsed": false
   },
   "outputs": [
    {
     "name": "stdout",
     "output_type": "stream",
     "text": [
      "Sequence 1 - Primer | best alignment\n",
      "score=5.0, score_normalized=0.25\n",
      "GTATGCTTCGTTC-ATTCAAATTTGGGTGTTTAGCAATTTTCGCATTTATCGTGAAACGCTTTCGCGTTTTTGGATCGGCAGGTGTTTAACCGTTTTCGCA\n",
      ".|.|.||||||||-|.|.|.---------------------------------------------------------------------------------\n",
      "TTGTACTTCGTTCCAGTTAT---------------------------------------------------------------------------------\n",
      "\n",
      "Sequence 2 - Primer | best alignment\n",
      "score=20.0, score_normalized=1.0\n",
      "GTTGTACTTCGTTCCAGTTATCAGATGTTGGGTGTTTAGCCGTTTTCGCATTTATCATTGAAACAACCGCGTTTTCGTGCGCCGCTTCACCTACAATGGA\n",
      "-||||||||||||||||||||-------------------------------------------------------------------------------\n",
      "-TTGTACTTCGTTCCAGTTAT-------------------------------------------------------------------------------\n",
      "\n",
      "Sequence 3 - Primer | best alignment\n",
      "score=11.0, score_normalized=0.55\n",
      "GTTG--CTTCGTTC-AGTTATCGGAATTGATTGTTTTAACCGTTTCGCATTTATCGTGAAACCTTTTCGCGTTTTCGTGCGCCGCTTCAGCCGCTTTGATTTC\n",
      "-|||--||||||||-||||||----------------------------------------------------------------------------------\n",
      "-TTGTACTTCGTTCCAGTTAT----------------------------------------------------------------------------------\n",
      "\n",
      "Sequence 4 - Primer | best alignment\n",
      "score=5.0, score_normalized=0.25\n",
      "CAGTGT-CTTCGTTCAATCGGTGGTGTTTAACCGTTTCGCATTTATCGTGAAACACTTTCGCGTTTTTCGTGCGCCGCTTCAAACGTCCCTTTTGAAGCCA\n",
      "--.|||-||||||||.|....|-------------------------------------------------------------------------------\n",
      "--TTGTACTTCGTTCCAGTTAT-------------------------------------------------------------------------------\n",
      "\n",
      "Sequence 5 - Primer | best alignment\n",
      "score=9.0, score_normalized=0.45\n",
      "GTTGTACTTCGTTCG-GTGCCTCGGAAGAATTTGGGTGTTCTTGTTTCGCATTTATCGTGAAACGCTTTCCGCGTTTTCGTGCGCCGCTTCATCAGCAGCT\n",
      "-|||||||||||||.-||...--------------------------------------------------------------------------------\n",
      "-TTGTACTTCGTTCCAGTTAT--------------------------------------------------------------------------------\n",
      "\n",
      "Sequence 6 - Primer | best alignment\n",
      "score=6.0, score_normalized=0.3\n",
      "GCGCCGCTGGTTCAGTTGGCACCTCGGAATTTGATTGAACAACCGTTTTCATTTATCGTGAAACGCTTTCGCATTTTTTCGTGCGCCGCTTCATTGTAGG\n",
      "----------------------------------|||.||..|-|||.-||.||||--------------------------------------------\n",
      "----------------------------------TTGTACTTC-GTTC-CAGTTAT--------------------------------------------\n",
      "\n",
      "Sequence 7 - Primer | best alignment\n",
      "score=2.0, score_normalized=0.1\n",
      "GTT-TCGTTCAGTTACA-TCAGATTTGGGTGTTTAACCGTTTTCCGCATTTATCGTGAAACGCTTCGCGTTTTTCGTGCGCCAGCAGCATGTACCTGCAGTA\n",
      "-||-|..|||-|||.||-|.|.--------------------------------------------------------------------------------\n",
      "-TTGTACTTC-GTTCCAGTTAT--------------------------------------------------------------------------------\n",
      "\n",
      "Sequence 8 - Primer | best alignment\n",
      "score=15.0, score_normalized=0.75\n",
      "GTTGTACTTCGTTC-AGTTTTTTTTTTTTTTCAGGTAGGTGTTTAACCGTTTTTCCGCATTTATCGTGAAACGCTTTCGCGTTGTGCGCCGCTTCAGCAGA\n",
      "-|||||||||||||-||||.|--------------------------------------------------------------------------------\n",
      "-TTGTACTTCGTTCCAGTTAT--------------------------------------------------------------------------------\n",
      "\n",
      "Sequence 9 - Primer | best alignment\n",
      "score=13.0, score_normalized=0.65\n",
      "CGGTATTACTTCGTTCCAGTT-TCATTTAGGTGTTTAACCGTTTCCCGCATTTATCGTGAAACGCTTTCGCGTTTTTCGTGCGCCGCTAAATGGCAATATA\n",
      "---|..|||||||||||||||-|------------------------------------------------------------------------------\n",
      "---TTGTACTTCGTTCCAGTTAT------------------------------------------------------------------------------\n",
      "\n",
      "Sequence 10 - Primer | best alignment\n",
      "score=10.0, score_normalized=0.5\n",
      "CAGTGTGCTTCGTTC-AGTT-TCGAATTTCAGGTGTTTTAACCGTTTTCGCATTTATCGTGAGAGGGTTTCGCGTTTTTCGTTGCTGCCCTTGTATCAACAC\n",
      "--.|||.||||||||-||||-|--------------------------------------------------------------------------------\n",
      "--TTGTACTTCGTTCCAGTTAT--------------------------------------------------------------------------------\n",
      "\n"
     ]
    }
   ],
   "source": [
    "primer = \"TTGTACTTCGTTCCAGTTAT\"\n",
    "\n",
    "for sequence_id in range(10):\n",
    "    sequence = dna_sequences[sequence_id]\n",
    "    sequence = sequence[:100] # truncate the sequence for this example (for display purpose) -> never do it in normal use case\n",
    "    \n",
    "    # align a primer on a sequence\n",
    "    alignments = aligner.align(sequence, primer)\n",
    "    best_alignment = max(alignments, key=lambda x: x.score)\n",
    "    alignment_score = best_alignment.score\n",
    "    alignment_score_normalized = alignment_score/len(primer)\n",
    "    \n",
    "    print(f\"Sequence {sequence_id + 1} - Primer | best alignment\")\n",
    "    print(f\"score={alignment_score}, score_normalized={alignment_score_normalized}\")\n",
    "    print(best_alignment)"
   ]
  },
  {
   "cell_type": "markdown",
   "id": "14003222e6c1fd9d",
   "metadata": {
    "collapsed": false
   },
   "source": [
    "Well done ! You have now loaded and aligned your first sequences.\n",
    "Normally, the sequence 2 should have a perfect alignment with the given primer (fake primer for this example). For a perfect alignment, the normalized alignment score is 1\n",
    "\n",
    "You can now play and try these different tools :)"
   ]
  },
  {
   "cell_type": "code",
   "execution_count": null,
   "id": "fc1742db1c663e0d",
   "metadata": {
    "collapsed": false
   },
   "outputs": [],
   "source": []
  },
  {
   "cell_type": "markdown",
   "id": "664e4c645aff115b",
   "metadata": {
    "collapsed": false
   },
   "source": []
  }
 ],
 "metadata": {
  "kernelspec": {
   "display_name": "Python 3",
   "language": "python",
   "name": "python3"
  },
  "language_info": {
   "codemirror_mode": {
    "name": "ipython",
    "version": 3
   },
   "file_extension": ".py",
   "mimetype": "text/x-python",
   "name": "python",
   "nbconvert_exporter": "python",
   "pygments_lexer": "ipython3",
   "version": "3.10.11"
  }
 },
 "nbformat": 4,
 "nbformat_minor": 5
}
