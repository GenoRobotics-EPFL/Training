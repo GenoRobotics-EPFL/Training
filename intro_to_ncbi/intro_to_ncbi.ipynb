{
 "cells": [
  {
   "cell_type": "markdown",
   "metadata": {},
   "source": [
    "# NCBI: National Center for Biotechnology Information\n",
    "NCBI provides international genetic databases that serve as a basis for comparing the DNA fragments we obtain by sequencing. The database we use is GenBank, the result of a collaboration between the DNA Databank of Japan, the European Nucleotide Archive and NCBI. NCBI also provides a very efficient algorithm, BLAST, for aligning DNA sequences with their database and returning the best matches. \n",
    "\n",
    "Ways to access the GenBank database:\n",
    "- Search GenBank for sequences, names or identifiers: https://www.ncbi.nlm.nih.gov/genbank/\n",
    "- Using BLAST for sequence alignment compares your query to all entries in GenBank."
   ]
  },
  {
   "cell_type": "markdown",
   "metadata": {},
   "source": [
    "## Part One: Exploring GenBank and BLASTn online\n",
    "\n",
    "Please refer to the pdf tutorial [_Exploring GenBank and BLASTn online_](Exploring_GenBank_and_BLASTn_online.pdf) on the repo."
   ]
  },
  {
   "cell_type": "markdown",
   "metadata": {},
   "source": [
    "## Part Two: Accessing Genbank through Python"
   ]
  },
  {
   "cell_type": "code",
   "execution_count": null,
   "metadata": {},
   "outputs": [],
   "source": []
  }
 ],
 "metadata": {
  "kernelspec": {
   "display_name": "base",
   "language": "python",
   "name": "python3"
  },
  "language_info": {
   "name": "python",
   "version": "3.11.5"
  }
 },
 "nbformat": 4,
 "nbformat_minor": 2
}
